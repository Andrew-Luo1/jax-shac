{
 "cells": [
  {
   "cell_type": "markdown",
   "metadata": {},
   "source": [
    "#### Bug report for mjx.ray"
   ]
  },
  {
   "cell_type": "code",
   "execution_count": 12,
   "metadata": {},
   "outputs": [
    {
     "name": "stdout",
     "output_type": "stream",
     "text": [
      "Obstacle distance normalised vec: 1.9000000953674316\n",
      "Obstacle distance unnormalised vec: 18.999998092651367\n"
     ]
    }
   ],
   "source": [
    "import mujoco\n",
    "from mujoco import mjx\n",
    "from functools import partial\n",
    "import jax \n",
    "import jax.numpy as jp\n",
    "\n",
    "xml_2dof = \"\"\"\n",
    "<mujoco model=\"2 dof ball\">\n",
    "    <compiler angle=\"radian\"/>\n",
    "\t<option timestep=\"0.002\" iterations=\"1\" ls_iterations=\"4\" solver=\"Newton\" gravity=\"0 0 -9.81\">\n",
    "\t\t<flag eulerdamp=\"disable\"/>\n",
    "\t</option>\n",
    "    <worldbody>\n",
    "        <geom name=\"obst\" size=\"0.1\" type=\"capsule\" fromto=\"0 2 0 0 2 1\" conaffinity=\"1\" contype=\"0\"/>\n",
    "        <body name=\"ball\" pos=\"0 0 0.2\">\n",
    "            <geom name=\"ball_geom\" size=\"0.1\" type=\"sphere\" conaffinity=\"0\" contype=\"1\"/>\n",
    "        </body>\n",
    "    </worldbody>\n",
    "    <asset>\n",
    "        <texture builtin=\"flat\" height=\"1278\" mark=\"cross\" markrgb=\"1 1 1\" name=\"texgeom\" random=\"0.01\" rgb1=\"0.8 0.6 0.4\" rgb2=\"0.8 0.6 0.4\" type=\"cube\" width=\"127\"/>\n",
    "        markrgb=\"0.8 0.8 0.8\" width=\"100\" height=\"100\"/>\n",
    "        <material name=\"geom\" texture=\"texgeom\" texuniform=\"true\"/>\n",
    "    </asset>\n",
    "</mujoco>\n",
    "\"\"\"\n",
    "\n",
    "model = mujoco.MjModel.from_xml_string(xml_2dof)\n",
    "\n",
    "mx = mjx.put_model(model)\n",
    "data = mujoco.MjData(model)\n",
    "mujoco.mj_forward(model, data)\n",
    "dx = mjx.put_data(model, data)\n",
    "\n",
    "test_func = jax.jit(partial(mjx.ray, m=mx, d=dx, pnt=jp.zeros(3)))\n",
    "\n",
    "normalised_vec = jp.array([0, 1, 0])\n",
    "print(\"Obstacle distance normalised vec: {}\".format(test_func(vec=normalised_vec)[0]))\n",
    "print(\"Obstacle distance unnormalised vec: {}\".format(test_func(vec=normalised_vec/10)[0]))"
   ]
  },
  {
   "cell_type": "code",
   "execution_count": null,
   "metadata": {},
   "outputs": [],
   "source": []
  }
 ],
 "metadata": {
  "kernelspec": {
   "display_name": "mujoco",
   "language": "python",
   "name": "python3"
  },
  "language_info": {
   "codemirror_mode": {
    "name": "ipython",
    "version": 3
   },
   "file_extension": ".py",
   "mimetype": "text/x-python",
   "name": "python",
   "nbconvert_exporter": "python",
   "pygments_lexer": "ipython3",
   "version": "3.12.0"
  }
 },
 "nbformat": 4,
 "nbformat_minor": 2
}

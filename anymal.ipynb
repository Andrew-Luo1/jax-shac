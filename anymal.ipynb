{
 "cells": [
  {
   "cell_type": "code",
   "execution_count": 1,
   "metadata": {},
   "outputs": [],
   "source": [
    "import sys\n",
    "from pathlib import Path\n",
    "import functools\n",
    "\n",
    "import mujoco\n",
    "from brax import envs\n",
    "import jax\n",
    "import jax.numpy as jp\n",
    "\n",
    "from envs import register_ahac_anymal\n",
    "from shac.brax_wrappers import AppendObsHistory\n",
    "\n",
    "import shac.networks as shac_networks\n",
    "# import shac.train as  shac\n",
    "from shac.train_class import SHAC"
   ]
  },
  {
   "cell_type": "code",
   "execution_count": 2,
   "metadata": {},
   "outputs": [],
   "source": [
    "env_name = 'ahac_anymal'\n",
    "\n",
    "log_sigma = None\n",
    "make_networks_factory = functools.partial(\n",
    "    shac_networks.make_shac_networks,\n",
    "        policy_hidden_layer_sizes=(256, 128),\n",
    "        value_hidden_layer_sizes =(256, 128),\n",
    "        scalar_var=False,\n",
    "        layer_norm=True)"
   ]
  },
  {
   "cell_type": "code",
   "execution_count": 3,
   "metadata": {},
   "outputs": [],
   "source": [
    "# Debugging params\n",
    "num_grad_checks = None\n",
    "save_all_policy_gradients = True\n",
    "\n",
    "# Training Parameters\n",
    "num_epochs = 500\n",
    "num_evals = num_epochs + 1\n",
    "unroll_length = 8 # Somewhat learns at 1. Doesn't at 8. Blows up at 16.\n",
    "num_envs = 64\n",
    "\n",
    "num_timesteps = (num_envs*unroll_length)*num_epochs\n",
    "\n",
    "num_critic_minibatches = 4\n",
    "num_critic_data = num_envs*unroll_length\n",
    "critic_batch_size = num_critic_data / num_critic_minibatches\n",
    "\n",
    "episode_length = 1000\n",
    "\n",
    "polgrad_thresh = 1e6\n",
    "\n",
    "# Environment Parameters\n",
    "env_kwargs = {\n",
    "    \"s_afilt_buf\" : 1,\n",
    "    \"train_standing\" : False,\n",
    "    \"termination_height\" : 0.15,\n",
    "    \"phys_step\" : 10,\n",
    "    \"model_variant\" : \"anymal\"\n",
    "}\n",
    "\n",
    "h = 5 # The number of history steps."
   ]
  },
  {
   "cell_type": "code",
   "execution_count": 4,
   "metadata": {},
   "outputs": [],
   "source": [
    "# Warning: takes 40s\n",
    "env      = AppendObsHistory(envs.get_environment(env_name, **env_kwargs), h=h)\n",
    "eval_env = AppendObsHistory(envs.get_environment(env_name, **env_kwargs), h=h)\n",
    "# env = envs.get_environment(env_name, **env_kwargs)\n",
    "# eval_env = envs.get_environment(env_name, **env_kwargs)"
   ]
  },
  {
   "cell_type": "code",
   "execution_count": 5,
   "metadata": {},
   "outputs": [],
   "source": [
    "# jit_reset = jax.jit(env.reset)\n",
    "# jit_step = jax.jit(env.step)\n"
   ]
  },
  {
   "cell_type": "code",
   "execution_count": 6,
   "metadata": {},
   "outputs": [],
   "source": [
    "# state = jit_reset(jax.random.PRNGKey(0))\n",
    "# state.obs\n",
    "# state = jit_step(state, -1*jp.ones(1))\n",
    "# state.obs\n",
    "# state = jit_step(state, -1*jp.ones(1))\n",
    "# state.obs\n",
    "\n",
    "# state.obs.shape"
   ]
  },
  {
   "cell_type": "code",
   "execution_count": 7,
   "metadata": {},
   "outputs": [],
   "source": [
    "# state.info['reward_tuple']"
   ]
  },
  {
   "cell_type": "code",
   "execution_count": 8,
   "metadata": {},
   "outputs": [
    {
     "name": "stdout",
     "output_type": "stream",
     "text": [
      "Env steps per training step: 1024\n",
      "Training steps per epoch: 1\n",
      "Critic minibatches per critic epoch: 4\n",
      "Initial eval time: 23.0827 s\n",
      "Deleting old checkpoints!\n",
      "Checkpointed for epoch 0\n"
     ]
    },
    {
     "name": "stderr",
     "output_type": "stream",
     "text": [
      "2024-03-06 09:55:09.335279: E external/xla/xla/service/gpu/buffer_comparator.cc:152] Difference at 1786970: -0.0601654, expected 0.0719863\n",
      "2024-03-06 09:55:09.342308: E external/xla/xla/service/gpu/triton_autotuner.cc:804] Results do not match the reference. This is likely a bug/unexpected loss of precision.\n",
      "2024-03-06 09:55:09.353984: E external/xla/xla/service/gpu/buffer_comparator.cc:152] Difference at 1786970: -0.0601654, expected 0.0719863\n",
      "2024-03-06 09:55:09.361814: E external/xla/xla/service/gpu/triton_autotuner.cc:804] Results do not match the reference. This is likely a bug/unexpected loss of precision.\n",
      "2024-03-06 09:55:09.374016: E external/xla/xla/service/gpu/buffer_comparator.cc:152] Difference at 1786970: -0.0601654, expected 0.0719863\n",
      "2024-03-06 09:55:09.380863: E external/xla/xla/service/gpu/triton_autotuner.cc:804] Results do not match the reference. This is likely a bug/unexpected loss of precision.\n",
      "2024-03-06 09:55:09.392582: E external/xla/xla/service/gpu/buffer_comparator.cc:152] Difference at 1786970: -0.0601654, expected 0.0719863\n",
      "2024-03-06 09:55:09.400628: E external/xla/xla/service/gpu/triton_autotuner.cc:804] Results do not match the reference. This is likely a bug/unexpected loss of precision.\n",
      "2024-03-06 09:55:09.411883: E external/xla/xla/service/gpu/buffer_comparator.cc:152] Difference at 1786970: -0.0601654, expected 0.0719863\n",
      "2024-03-06 09:55:09.418666: E external/xla/xla/service/gpu/triton_autotuner.cc:804] Results do not match the reference. This is likely a bug/unexpected loss of precision.\n",
      "2024-03-06 09:55:09.430073: E external/xla/xla/service/gpu/buffer_comparator.cc:152] Difference at 1786970: -0.0601654, expected 0.0719863\n",
      "2024-03-06 09:55:09.436915: E external/xla/xla/service/gpu/triton_autotuner.cc:804] Results do not match the reference. This is likely a bug/unexpected loss of precision.\n",
      "2024-03-06 09:55:09.448310: E external/xla/xla/service/gpu/buffer_comparator.cc:152] Difference at 1786970: -0.0601654, expected 0.0719863\n",
      "2024-03-06 09:55:09.455147: E external/xla/xla/service/gpu/triton_autotuner.cc:804] Results do not match the reference. This is likely a bug/unexpected loss of precision.\n",
      "2024-03-06 09:55:09.466340: E external/xla/xla/service/gpu/buffer_comparator.cc:152] Difference at 1786970: -0.0601654, expected 0.0719863\n",
      "2024-03-06 09:55:09.473178: E external/xla/xla/service/gpu/triton_autotuner.cc:804] Results do not match the reference. This is likely a bug/unexpected loss of precision.\n",
      "2024-03-06 09:55:09.484593: E external/xla/xla/service/gpu/buffer_comparator.cc:152] Difference at 1786970: -0.0601654, expected 0.0719863\n",
      "2024-03-06 09:55:09.492937: E external/xla/xla/service/gpu/triton_autotuner.cc:804] Results do not match the reference. This is likely a bug/unexpected loss of precision.\n",
      "2024-03-06 09:55:09.504093: E external/xla/xla/service/gpu/buffer_comparator.cc:152] Difference at 1786970: -0.0601654, expected 0.0719863\n",
      "2024-03-06 09:55:09.510847: E external/xla/xla/service/gpu/triton_autotuner.cc:804] Results do not match the reference. This is likely a bug/unexpected loss of precision.\n",
      "2024-03-06 09:55:09.522553: E external/xla/xla/service/gpu/buffer_comparator.cc:152] Difference at 1786970: -0.0601654, expected 0.0719863\n",
      "2024-03-06 09:55:09.529390: E external/xla/xla/service/gpu/triton_autotuner.cc:804] Results do not match the reference. This is likely a bug/unexpected loss of precision.\n",
      "2024-03-06 09:55:09.545565: E external/xla/xla/service/gpu/buffer_comparator.cc:152] Difference at 1786970: -0.0601654, expected 0.0719863\n",
      "2024-03-06 09:55:09.557945: E external/xla/xla/service/gpu/triton_autotuner.cc:804] Results do not match the reference. This is likely a bug/unexpected loss of precision.\n",
      "2024-03-06 09:55:09.574725: E external/xla/xla/service/gpu/buffer_comparator.cc:152] Difference at 1786970: -0.0601654, expected 0.0719863\n",
      "2024-03-06 09:55:09.587227: E external/xla/xla/service/gpu/triton_autotuner.cc:804] Results do not match the reference. This is likely a bug/unexpected loss of precision.\n",
      "2024-03-06 09:55:09.599642: E external/xla/xla/service/gpu/buffer_comparator.cc:152] Difference at 1786970: -0.0601654, expected 0.0719863\n",
      "2024-03-06 09:55:09.606554: E external/xla/xla/service/gpu/triton_autotuner.cc:804] Results do not match the reference. This is likely a bug/unexpected loss of precision.\n",
      "2024-03-06 09:55:09.618939: E external/xla/xla/service/gpu/buffer_comparator.cc:152] Difference at 1786970: -0.0601654, expected 0.0719863\n",
      "2024-03-06 09:55:09.626212: E external/xla/xla/service/gpu/triton_autotuner.cc:804] Results do not match the reference. This is likely a bug/unexpected loss of precision.\n",
      "2024-03-06 09:55:09.638810: E external/xla/xla/service/gpu/buffer_comparator.cc:152] Difference at 1786970: -0.0601654, expected 0.0719863\n",
      "2024-03-06 09:55:09.645661: E external/xla/xla/service/gpu/triton_autotuner.cc:804] Results do not match the reference. This is likely a bug/unexpected loss of precision.\n",
      "2024-03-06 09:55:09.658160: E external/xla/xla/service/gpu/buffer_comparator.cc:152] Difference at 1786970: -0.0601654, expected 0.0719863\n",
      "2024-03-06 09:55:09.665608: E external/xla/xla/service/gpu/triton_autotuner.cc:804] Results do not match the reference. This is likely a bug/unexpected loss of precision.\n",
      "2024-03-06 09:55:09.678777: E external/xla/xla/service/gpu/buffer_comparator.cc:152] Difference at 1786970: -0.0601654, expected 0.0719863\n",
      "2024-03-06 09:55:09.685979: E external/xla/xla/service/gpu/triton_autotuner.cc:804] Results do not match the reference. This is likely a bug/unexpected loss of precision.\n",
      "2024-03-06 09:55:09.698495: E external/xla/xla/service/gpu/buffer_comparator.cc:152] Difference at 1786970: -0.0601654, expected 0.0719863\n",
      "2024-03-06 09:55:09.705834: E external/xla/xla/service/gpu/triton_autotuner.cc:804] Results do not match the reference. This is likely a bug/unexpected loss of precision.\n",
      "2024-03-06 09:55:09.718636: E external/xla/xla/service/gpu/buffer_comparator.cc:152] Difference at 1786970: -0.0601654, expected 0.0719863\n",
      "2024-03-06 09:55:09.729452: E external/xla/xla/service/gpu/triton_autotuner.cc:804] Results do not match the reference. This is likely a bug/unexpected loss of precision.\n",
      "2024-03-06 09:55:09.744982: E external/xla/xla/service/gpu/buffer_comparator.cc:152] Difference at 1786970: -0.0601654, expected 0.0719863\n",
      "2024-03-06 09:55:09.755984: E external/xla/xla/service/gpu/triton_autotuner.cc:804] Results do not match the reference. This is likely a bug/unexpected loss of precision.\n",
      "2024-03-06 09:55:09.774107: E external/xla/xla/service/gpu/buffer_comparator.cc:152] Difference at 1786970: -0.0601654, expected 0.0719863\n",
      "2024-03-06 09:55:09.786442: E external/xla/xla/service/gpu/triton_autotuner.cc:804] Results do not match the reference. This is likely a bug/unexpected loss of precision.\n"
     ]
    },
    {
     "ename": "XlaRuntimeError",
     "evalue": "INTERNAL: All algorithms tried for %dot.3760 = f32[64,294,256]{2,1,0} dot(f32[64,294,16]{1,0,2} %bitcast.150496, f32[64,16,256]{2,1,0} %parameter_3), lhs_batch_dims={0}, lhs_contracting_dims={2}, rhs_batch_dims={0}, rhs_contracting_dims={1}, metadata={op_name=\"jit(training_epoch)/jit(main)/while/body/jit(policy_gradient_update_fn)/vmap(transpose(jvp(MLP)))/hidden_0/transpose[permutation=(0, 2, 1)]\" source_file=\"/home/andrew/Documents/thesis/jax_shac/shac/brax_networks.py\" source_line=115} failed. Falling back to default algorithm.  Per-algorithm errors:\n  Results do not match the reference. This is likely a bug/unexpected loss of precision.\n  Results do not match the reference. This is likely a bug/unexpected loss of precision.\n  Results do not match the reference. This is likely a bug/unexpected loss of precision.\n  Results do not match the reference. This is likely a bug/unexpected loss of precision.\n  Results do not match the reference. This is likely a bug/unexpected loss of precision.\n  Results do not match the reference. This is likely a bug/unexpected loss of precision.\n  Results do not match the reference. This is likely a bug/unexpected loss of precision.\n  Results do not match the reference. This is likely a bug/unexpected loss of precision.\n  Results do not match the reference. This is likely a bug/unexpected loss of precision.\n  Results do not match the reference. This is likely a bug/unexpected loss of precision.\n  Results do not match the reference. This is likely a bug/unexpected loss of precision.\n  Results do not match the reference. This is likely a bug/unexpected loss of precision.\n  Results do not match the reference. This is likely a bug/unexpected loss of precision.\n  Results do not match the reference. This is likely a bug/unexpected loss of precision.\n  Results do not match the reference. This is likely a bug/unexpected loss of precision.\n  Results do not match the reference. This is likely a bug/unexpected loss of precision.\n  Results do not match the reference. This is likely a bug/unexpected loss of precision.\n  Results do not match the reference. This is likely a bug/unexpected loss of precision.\n  Results do not match the reference. This is likely a bug/unexpected loss of precision.\n  Results do not match the reference. This is likely a bug/unexpected loss of precision.\n  Results do not match the reference. This is likely a bug/unexpected loss of precision.\n  Results do not match the reference. This is likely a bug/unexpected loss of precision.",
     "output_type": "error",
     "traceback": [
      "\u001b[0;31m---------------------------------------------------------------------------\u001b[0m",
      "\u001b[0;31mXlaRuntimeError\u001b[0m                           Traceback (most recent call last)",
      "Cell \u001b[0;32mIn[8], line 19\u001b[0m\n\u001b[1;32m      1\u001b[0m train_fn \u001b[38;5;241m=\u001b[39m functools\u001b[38;5;241m.\u001b[39mpartial(shac\u001b[38;5;241m.\u001b[39mtrain, \n\u001b[1;32m      2\u001b[0m                             num_timesteps\u001b[38;5;241m=\u001b[39mnum_timesteps, log_sigma\u001b[38;5;241m=\u001b[39mlog_sigma,\n\u001b[1;32m      3\u001b[0m                             num_evals\u001b[38;5;241m=\u001b[39mnum_evals, use_tbx\u001b[38;5;241m=\u001b[39m\u001b[38;5;28;01mTrue\u001b[39;00m, tbx_logdir\u001b[38;5;241m=\u001b[39m\u001b[38;5;124mf\u001b[39m\u001b[38;5;124m'\u001b[39m\u001b[38;5;132;01m{\u001b[39;00menv_name\u001b[38;5;132;01m}\u001b[39;00m\u001b[38;5;124m_log\u001b[39m\u001b[38;5;124m'\u001b[39m,\n\u001b[0;32m   (...)\u001b[0m\n\u001b[1;32m     16\u001b[0m                             save_all_checkpoints\u001b[38;5;241m=\u001b[39m\u001b[38;5;28;01mTrue\u001b[39;00m,\n\u001b[1;32m     17\u001b[0m                             polgrad_thresh\u001b[38;5;241m=\u001b[39mpolgrad_thresh)\n\u001b[0;32m---> 19\u001b[0m make_inference_fn, policy_params, value_params, _\u001b[38;5;241m=\u001b[39m \u001b[43mtrain_fn\u001b[49m\u001b[43m(\u001b[49m\n\u001b[1;32m     20\u001b[0m \u001b[43m  \u001b[49m\u001b[43menvironment\u001b[49m\u001b[38;5;241;43m=\u001b[39;49m\u001b[43menv\u001b[49m\u001b[43m,\u001b[49m\n\u001b[1;32m     21\u001b[0m \u001b[43m  \u001b[49m\u001b[43meval_env\u001b[49m\u001b[38;5;241;43m=\u001b[39;49m\u001b[43meval_env\u001b[49m\u001b[43m)\u001b[49m\n",
      "File \u001b[0;32m~/Documents/thesis/jax_shac/shac/train.py:734\u001b[0m, in \u001b[0;36mtrain\u001b[0;34m(environment, num_timesteps, episode_length, num_envs, num_eval_envs, actor_learning_rate, critic_learning_rate, adam_b, entropy_cost, discounting, seed, unroll_length, critic_batch_size, critic_epochs, num_evals, use_tbx, tbx_experiment_name, tbx_logdir, scramble_initial_times, normalize_observations, reward_scaling, target_critic_alpha, lambda_, deterministic_eval, network_factory, log_sigma, resample_init, num_grad_checks, policy_init_params, normalizer_init_params, save_all_checkpoints, value_burn_in, progress_fn, eval_env, polgrad_thresh)\u001b[0m\n\u001b[1;32m    730\u001b[0m epoch_start_env_time \u001b[38;5;241m=\u001b[39m env_state\u001b[38;5;241m.\u001b[39mpipeline_state\u001b[38;5;241m.\u001b[39mtime[\u001b[38;5;241m0\u001b[39m]\n\u001b[1;32m    731\u001b[0m epoch_start_state \u001b[38;5;241m=\u001b[39m env_state\u001b[38;5;241m.\u001b[39mpipeline_state\u001b[38;5;241m.\u001b[39mqpos[\u001b[38;5;241m0\u001b[39m, \u001b[38;5;241m0\u001b[39m]\n\u001b[1;32m    733\u001b[0m (training_state, env_state,\n\u001b[0;32m--> 734\u001b[0m     training_metrics) \u001b[38;5;241m=\u001b[39m \u001b[43mtraining_epoch_with_timing\u001b[49m\u001b[43m(\u001b[49m\u001b[43mtraining_state\u001b[49m\u001b[43m,\u001b[49m\u001b[43m \u001b[49m\u001b[43menv_state\u001b[49m\u001b[43m,\u001b[49m\u001b[43m \u001b[49m\u001b[43mepoch_key\u001b[49m\u001b[43m)\u001b[49m\n\u001b[1;32m    736\u001b[0m \u001b[38;5;66;03m# VERIFY AUTODIFF\u001b[39;00m\n\u001b[1;32m    737\u001b[0m \u001b[38;5;28;01mif\u001b[39;00m num_grad_checks \u001b[38;5;129;01mis\u001b[39;00m \u001b[38;5;129;01mnot\u001b[39;00m \u001b[38;5;28;01mNone\u001b[39;00m:\n",
      "File \u001b[0;32m~/Documents/thesis/jax_shac/shac/train.py:601\u001b[0m, in \u001b[0;36mtrain.<locals>.training_epoch_with_timing\u001b[0;34m(training_state, env_state, key)\u001b[0m\n\u001b[1;32m    599\u001b[0m \u001b[38;5;28;01mnonlocal\u001b[39;00m training_walltime\n\u001b[1;32m    600\u001b[0m t \u001b[38;5;241m=\u001b[39m time\u001b[38;5;241m.\u001b[39mtime()\n\u001b[0;32m--> 601\u001b[0m training_state, env_state, metrics, err \u001b[38;5;241m=\u001b[39m \u001b[43mtraining_epoch\u001b[49m\u001b[43m(\u001b[49m\n\u001b[1;32m    602\u001b[0m \u001b[43m    \u001b[49m\u001b[43mtraining_state\u001b[49m\u001b[43m,\u001b[49m\u001b[43m \u001b[49m\u001b[43menv_state\u001b[49m\u001b[43m,\u001b[49m\u001b[43m \u001b[49m\u001b[43mkey\u001b[49m\u001b[43m)\u001b[49m\n\u001b[1;32m    604\u001b[0m jax\u001b[38;5;241m.\u001b[39mtree_util\u001b[38;5;241m.\u001b[39mtree_map(\u001b[38;5;28;01mlambda\u001b[39;00m x: x\u001b[38;5;241m.\u001b[39mblock_until_ready(), metrics)\n\u001b[1;32m    606\u001b[0m \u001b[38;5;66;03m#### CHECKIFYING\u001b[39;00m\n\u001b[1;32m    607\u001b[0m \u001b[38;5;66;03m# err.throw()\u001b[39;00m\n",
      "    \u001b[0;31m[... skipping hidden 15 frame]\u001b[0m\n",
      "File \u001b[0;32m~/miniconda3/envs/mujoco/lib/python3.10/site-packages/jax/_src/compiler.py:237\u001b[0m, in \u001b[0;36mbackend_compile\u001b[0;34m(backend, module, options, host_callbacks)\u001b[0m\n\u001b[1;32m    232\u001b[0m   \u001b[38;5;28;01mreturn\u001b[39;00m backend\u001b[38;5;241m.\u001b[39mcompile(built_c, compile_options\u001b[38;5;241m=\u001b[39moptions,\n\u001b[1;32m    233\u001b[0m                          host_callbacks\u001b[38;5;241m=\u001b[39mhost_callbacks)\n\u001b[1;32m    234\u001b[0m \u001b[38;5;66;03m# Some backends don't have `host_callbacks` option yet\u001b[39;00m\n\u001b[1;32m    235\u001b[0m \u001b[38;5;66;03m# TODO(sharadmv): remove this fallback when all backends allow `compile`\u001b[39;00m\n\u001b[1;32m    236\u001b[0m \u001b[38;5;66;03m# to take in `host_callbacks`\u001b[39;00m\n\u001b[0;32m--> 237\u001b[0m \u001b[38;5;28;01mreturn\u001b[39;00m \u001b[43mbackend\u001b[49m\u001b[38;5;241;43m.\u001b[39;49m\u001b[43mcompile\u001b[49m\u001b[43m(\u001b[49m\u001b[43mbuilt_c\u001b[49m\u001b[43m,\u001b[49m\u001b[43m \u001b[49m\u001b[43mcompile_options\u001b[49m\u001b[38;5;241;43m=\u001b[39;49m\u001b[43moptions\u001b[49m\u001b[43m)\u001b[49m\n",
      "\u001b[0;31mXlaRuntimeError\u001b[0m: INTERNAL: All algorithms tried for %dot.3760 = f32[64,294,256]{2,1,0} dot(f32[64,294,16]{1,0,2} %bitcast.150496, f32[64,16,256]{2,1,0} %parameter_3), lhs_batch_dims={0}, lhs_contracting_dims={2}, rhs_batch_dims={0}, rhs_contracting_dims={1}, metadata={op_name=\"jit(training_epoch)/jit(main)/while/body/jit(policy_gradient_update_fn)/vmap(transpose(jvp(MLP)))/hidden_0/transpose[permutation=(0, 2, 1)]\" source_file=\"/home/andrew/Documents/thesis/jax_shac/shac/brax_networks.py\" source_line=115} failed. Falling back to default algorithm.  Per-algorithm errors:\n  Results do not match the reference. This is likely a bug/unexpected loss of precision.\n  Results do not match the reference. This is likely a bug/unexpected loss of precision.\n  Results do not match the reference. This is likely a bug/unexpected loss of precision.\n  Results do not match the reference. This is likely a bug/unexpected loss of precision.\n  Results do not match the reference. This is likely a bug/unexpected loss of precision.\n  Results do not match the reference. This is likely a bug/unexpected loss of precision.\n  Results do not match the reference. This is likely a bug/unexpected loss of precision.\n  Results do not match the reference. This is likely a bug/unexpected loss of precision.\n  Results do not match the reference. This is likely a bug/unexpected loss of precision.\n  Results do not match the reference. This is likely a bug/unexpected loss of precision.\n  Results do not match the reference. This is likely a bug/unexpected loss of precision.\n  Results do not match the reference. This is likely a bug/unexpected loss of precision.\n  Results do not match the reference. This is likely a bug/unexpected loss of precision.\n  Results do not match the reference. This is likely a bug/unexpected loss of precision.\n  Results do not match the reference. This is likely a bug/unexpected loss of precision.\n  Results do not match the reference. This is likely a bug/unexpected loss of precision.\n  Results do not match the reference. This is likely a bug/unexpected loss of precision.\n  Results do not match the reference. This is likely a bug/unexpected loss of precision.\n  Results do not match the reference. This is likely a bug/unexpected loss of precision.\n  Results do not match the reference. This is likely a bug/unexpected loss of precision.\n  Results do not match the reference. This is likely a bug/unexpected loss of precision.\n  Results do not match the reference. This is likely a bug/unexpected loss of precision."
     ]
    }
   ],
   "source": [
    "kwargs = dict( \n",
    "  num_timesteps=num_timesteps, log_sigma=log_sigma,\n",
    "  num_evals=num_evals, use_tbx=True, tbx_logdir=f'{env_name}_log',\n",
    "  tbx_experiment_name=\"obs_hist_unroll16\", reward_scaling=1, \n",
    "  num_eval_envs = 64, num_envs=num_envs,\n",
    "  unroll_length=unroll_length, critic_batch_size=critic_batch_size,\n",
    "  critic_epochs = 16,target_critic_alpha = 0.2,\n",
    "  discounting = 0.99, lambda_ = 0.95,\n",
    "  normalize_observations=True,\n",
    "  episode_length=episode_length, \n",
    "  network_factory = make_networks_factory, \n",
    "  seed=0, entropy_cost = 1e-3,\n",
    "  resample_init=True,\n",
    "  scramble_initial_times=True,\n",
    "  num_grad_checks=num_grad_checks,\n",
    "  save_all_checkpoints=True,\n",
    "  polgrad_thresh=polgrad_thresh,\n",
    "  save_all_policy_gradients=save_all_policy_gradients\n",
    "  )\n",
    "\n",
    "trainer = SHAC(environment=env, eval_env=eval_env, **kwargs)"
   ]
  },
  {
   "cell_type": "code",
   "execution_count": null,
   "metadata": {},
   "outputs": [],
   "source": [
    "make_inference_fn, policy_params, value_params, _= trainer.train()"
   ]
  },
  {
   "cell_type": "markdown",
   "metadata": {},
   "source": [
    "#### Eval"
   ]
  },
  {
   "cell_type": "code",
   "execution_count": null,
   "metadata": {},
   "outputs": [],
   "source": [
    "# utils_path = Path(Path.cwd().parent,\n",
    "#                   Path(\"benchmarks\"),\n",
    "#                   Path(\"quadruped_stability_studies\"))\n",
    "# sys.path.append(str(utils_path))\n",
    "\n",
    "from jax_shac.utils.eval_utils import plot_jacobian_norms, visualize_rollout, plot_rews"
   ]
  },
  {
   "cell_type": "code",
   "execution_count": null,
   "metadata": {},
   "outputs": [],
   "source": [
    "renderer = mujoco.Renderer(env.model)"
   ]
  },
  {
   "cell_type": "code",
   "execution_count": null,
   "metadata": {},
   "outputs": [],
   "source": [
    "jit_reset = jax.jit(env.reset)\n",
    "jit_step = jax.jit(env.step)\n",
    "# jit_inference_fn = jax.jit(make_inference_fn(policy_params))\n",
    "\n",
    "rng = jax.random.key(141)\n",
    "init_key, rollout_key, rng = jax.random.split(rng, 3)\n",
    "s0 = jit_reset(init_key)\n",
    "\n",
    "jit_inference_fn = jax.jit(make_inference_fn(policy_params))"
   ]
  },
  {
   "cell_type": "code",
   "execution_count": null,
   "metadata": {},
   "outputs": [],
   "source": [
    "if False:\n",
    "    def spoof_policy(_, rng):\n",
    "        bb = jax.random.choice(rng, jp.array([-1, 1]), \n",
    "                            p=jp.array([0.9, 1]))\n",
    "        return bb.reshape(1), {}\n",
    "        # return 2*(jax.random.uniform(rng).reshape(1)-0.5), {}\n",
    "    jit_inference_fn = jax.jit(spoof_policy)"
   ]
  },
  {
   "cell_type": "code",
   "execution_count": null,
   "metadata": {},
   "outputs": [
    {
     "ename": "TypeError",
     "evalue": "cannot reshape array of shape (12,) (size 12) into shape 1 (size 1)",
     "output_type": "error",
     "traceback": [
      "\u001b[0;31m---------------------------------------------------------------------------\u001b[0m",
      "\u001b[0;31mTypeError\u001b[0m                                 Traceback (most recent call last)",
      "Cell \u001b[0;32mIn[13], line 9\u001b[0m\n\u001b[1;32m      1\u001b[0m \u001b[38;5;28;01mif\u001b[39;00m \u001b[38;5;28;01mTrue\u001b[39;00m:\n\u001b[1;32m      2\u001b[0m \u001b[38;5;250m    \u001b[39m\u001b[38;5;124;03m\"\"\" \u001b[39;00m\n\u001b[1;32m      3\u001b[0m \u001b[38;5;124;03m    Nan gradients:\u001b[39;00m\n\u001b[1;32m      4\u001b[0m \u001b[38;5;124;03m    - Not seen in forward-mode AD\u001b[39;00m\n\u001b[0;32m   (...)\u001b[0m\n\u001b[1;32m      7\u001b[0m \u001b[38;5;124;03m        - https://github.com/google-deepmind/mujoco/issues/1349\u001b[39;00m\n\u001b[1;32m      8\u001b[0m \u001b[38;5;124;03m    \"\"\"\u001b[39;00m\n\u001b[0;32m----> 9\u001b[0m     all_jacs, state_jacs, ctrl_jacs \u001b[38;5;241m=\u001b[39m \u001b[43mplot_jacobian_norms\u001b[49m\u001b[43m(\u001b[49m\u001b[43ms0\u001b[49m\u001b[43m,\u001b[49m\u001b[43m \u001b[49m\u001b[43mrollout_key\u001b[49m\u001b[43m,\u001b[49m\u001b[43m \u001b[49m\u001b[43menv\u001b[49m\u001b[43m,\u001b[49m\u001b[43m \u001b[49m\u001b[43mjit_inference_fn\u001b[49m\u001b[43m,\u001b[49m\n\u001b[1;32m     10\u001b[0m \u001b[43m                                                \u001b[49m\u001b[43mjit_step\u001b[49m\u001b[43m,\u001b[49m\u001b[43m \u001b[49m\u001b[43mepisode_length\u001b[49m\u001b[38;5;241;43m=\u001b[39;49m\u001b[38;5;241;43m240\u001b[39;49m\u001b[43m,\u001b[49m\n\u001b[1;32m     11\u001b[0m \u001b[43m                                                \u001b[49m\u001b[43mret_jacs\u001b[49m\u001b[38;5;241;43m=\u001b[39;49m\u001b[38;5;28;43;01mTrue\u001b[39;49;00m\u001b[43m,\u001b[49m\u001b[43m \u001b[49m\u001b[43mjacmode\u001b[49m\u001b[38;5;241;43m=\u001b[39;49m\u001b[38;5;124;43m'\u001b[39;49m\u001b[38;5;124;43mfwd\u001b[39;49m\u001b[38;5;124;43m'\u001b[39;49m\u001b[43m)\u001b[49m\n",
      "File \u001b[0;32m~/Documents/thesis/jax_shac/utils/eval_utils.py:65\u001b[0m, in \u001b[0;36mplot_jacobian_norms\u001b[0;34m(state, key, env, jit_inference_fn, jit_step, episode_length, ret_jacs, jacmode)\u001b[0m\n\u001b[1;32m     58\u001b[0m mjx_data \u001b[38;5;241m=\u001b[39m state\u001b[38;5;241m.\u001b[39mpipeline_state\n\u001b[1;32m     60\u001b[0m \u001b[38;5;66;03m# Eval jac\u001b[39;00m\n\u001b[1;32m     61\u001b[0m x_i \u001b[38;5;241m=\u001b[39m jp\u001b[38;5;241m.\u001b[39msqueeze(\n\u001b[1;32m     62\u001b[0m         jp\u001b[38;5;241m.\u001b[39mconcatenate(\n\u001b[1;32m     63\u001b[0m             [ mjx_data\u001b[38;5;241m.\u001b[39mqpos\u001b[38;5;241m.\u001b[39mreshape(env\u001b[38;5;241m.\u001b[39msys\u001b[38;5;241m.\u001b[39mnq), \n\u001b[1;32m     64\u001b[0m               mjx_data\u001b[38;5;241m.\u001b[39mqvel\u001b[38;5;241m.\u001b[39mreshape(env\u001b[38;5;241m.\u001b[39msys\u001b[38;5;241m.\u001b[39mnv),\n\u001b[0;32m---> 65\u001b[0m               \u001b[43maction\u001b[49m\u001b[38;5;241;43m.\u001b[39;49m\u001b[43mreshape\u001b[49m\u001b[43m(\u001b[49m\u001b[38;5;241;43m1\u001b[39;49m\u001b[43m)\u001b[49m], \n\u001b[1;32m     66\u001b[0m             axis\u001b[38;5;241m=\u001b[39m\u001b[38;5;241m0\u001b[39m))\n\u001b[1;32m     67\u001b[0m \u001b[38;5;28;01massert\u001b[39;00m \u001b[38;5;28mlen\u001b[39m(x_i) \u001b[38;5;241m==\u001b[39m state_dim \u001b[38;5;241m+\u001b[39m ctrl_dim\n\u001b[1;32m     69\u001b[0m \u001b[38;5;28;01mmatch\u001b[39;00m jacmode:\n",
      "    \u001b[0;31m[... skipping hidden 1 frame]\u001b[0m\n",
      "File \u001b[0;32m~/miniconda3/envs/mujoco/lib/python3.10/site-packages/jax/_src/numpy/array_methods.py:136\u001b[0m, in \u001b[0;36m_compute_newshape\u001b[0;34m(a, newshape)\u001b[0m\n\u001b[1;32m    133\u001b[0m \u001b[38;5;28;01melse\u001b[39;00m:\n\u001b[1;32m    134\u001b[0m   \u001b[38;5;28;01mif\u001b[39;00m (\u001b[38;5;28mall\u001b[39m(\u001b[38;5;28misinstance\u001b[39m(d, \u001b[38;5;28mint\u001b[39m) \u001b[38;5;28;01mfor\u001b[39;00m d \u001b[38;5;129;01min\u001b[39;00m (\u001b[38;5;241m*\u001b[39mnp\u001b[38;5;241m.\u001b[39mshape(a), \u001b[38;5;241m*\u001b[39mnewshape)) \u001b[38;5;129;01mand\u001b[39;00m\n\u001b[1;32m    135\u001b[0m       np\u001b[38;5;241m.\u001b[39msize(a) \u001b[38;5;241m!=\u001b[39m math\u001b[38;5;241m.\u001b[39mprod(newshape)):\n\u001b[0;32m--> 136\u001b[0m     \u001b[38;5;28;01mraise\u001b[39;00m \u001b[38;5;167;01mTypeError\u001b[39;00m(\u001b[38;5;124mf\u001b[39m\u001b[38;5;124m\"\u001b[39m\u001b[38;5;124mcannot reshape array of shape \u001b[39m\u001b[38;5;132;01m{\u001b[39;00mnp\u001b[38;5;241m.\u001b[39mshape(a)\u001b[38;5;132;01m}\u001b[39;00m\u001b[38;5;124m (size \u001b[39m\u001b[38;5;132;01m{\u001b[39;00mnp\u001b[38;5;241m.\u001b[39msize(a)\u001b[38;5;132;01m}\u001b[39;00m\u001b[38;5;124m) \u001b[39m\u001b[38;5;124m\"\u001b[39m\n\u001b[1;32m    137\u001b[0m                     \u001b[38;5;124mf\u001b[39m\u001b[38;5;124m\"\u001b[39m\u001b[38;5;124minto shape \u001b[39m\u001b[38;5;132;01m{\u001b[39;00morig_newshape\u001b[38;5;132;01m}\u001b[39;00m\u001b[38;5;124m (size \u001b[39m\u001b[38;5;132;01m{\u001b[39;00mmath\u001b[38;5;241m.\u001b[39mprod(newshape)\u001b[38;5;132;01m}\u001b[39;00m\u001b[38;5;124m)\u001b[39m\u001b[38;5;124m\"\u001b[39m)\n\u001b[1;32m    138\u001b[0m \u001b[38;5;28;01mreturn\u001b[39;00m \u001b[38;5;28mtuple\u001b[39m(\u001b[38;5;241m-\u001b[39mcore\u001b[38;5;241m.\u001b[39mdivide_shape_sizes(np\u001b[38;5;241m.\u001b[39mshape(a), newshape)\n\u001b[1;32m    139\u001b[0m              \u001b[38;5;28;01mif\u001b[39;00m core\u001b[38;5;241m.\u001b[39mdefinitely_equal(d, \u001b[38;5;241m-\u001b[39m\u001b[38;5;241m1\u001b[39m) \u001b[38;5;28;01melse\u001b[39;00m d \u001b[38;5;28;01mfor\u001b[39;00m d \u001b[38;5;129;01min\u001b[39;00m newshape)\n",
      "\u001b[0;31mTypeError\u001b[0m: cannot reshape array of shape (12,) (size 12) into shape 1 (size 1)"
     ]
    }
   ],
   "source": [
    "if True:\n",
    "    \"\"\" \n",
    "    Nan gradients:\n",
    "    - Not seen in forward-mode AD\n",
    "    - Jacrev doesn't work\n",
    "    - Unclear whether nan's in training come from user code or MJX\n",
    "        - https://github.com/google-deepmind/mujoco/issues/1349\n",
    "    \"\"\"\n",
    "    all_jacs, state_jacs, ctrl_jacs = plot_jacobian_norms(s0, rollout_key, env, jit_inference_fn,\n",
    "                                                jit_step, episode_length=240,\n",
    "                                                ret_jacs=True, jacmode='fwd')"
   ]
  },
  {
   "cell_type": "code",
   "execution_count": null,
   "metadata": {},
   "outputs": [
    {
     "data": {
      "text/html": [
       "<table class=\"show_videos\" style=\"border-spacing:0px;\"><tr><td style=\"padding:1px;\"><video controls width=\"320\" height=\"240\" style=\"object-fit:cover;\" loop autoplay muted>\n",
       "      <source src=\"data:video/mp4;base64,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\" type=\"video/mp4\"/>\n",
       "      This browser does not support the video tag.\n",
       "      </video></td></tr></table>"
      ],
      "text/plain": [
       "<IPython.core.display.HTML object>"
      ]
     },
     "metadata": {},
     "output_type": "display_data"
    }
   ],
   "source": [
    "state_h, states = visualize_rollout(s0, rollout_key, env, \n",
    "                                    jit_inference_fn, jit_step, renderer, \n",
    "                                    episode_length=240, print_nans=False, \n",
    "                                    print_dones=True, ret_states=True, camera=\"track\")"
   ]
  },
  {
   "cell_type": "code",
   "execution_count": null,
   "metadata": {},
   "outputs": [
    {
     "data": {
      "image/png": "[encoded data removed]",
      "text/plain": [
       "<Figure size 640x480 with 1 Axes>"
      ]
     },
     "metadata": {},
     "output_type": "display_data"
    }
   ],
   "source": [
    "rews = plot_rews(states)"
   ]
  },
  {
   "cell_type": "markdown",
   "metadata": {},
   "source": [
    "## Debugging the Large Gradient Variance"
   ]
  },
  {
   "cell_type": "markdown",
   "metadata": {},
   "source": [
    "#### Policy gradient sizes across enviroments"
   ]
  },
  {
   "cell_type": "code",
   "execution_count": null,
   "metadata": {},
   "outputs": [],
   "source": [
    "import matplotlib.pyplot as plt\n",
    "import jax.numpy as jp\n",
    "import pickle\n",
    "import jax\n",
    "import operator\n",
    "\n",
    "it = None # TODO\n",
    "# Load policy gradients\n",
    "bgrad_path = f\"/home/andrew/Documents/thesis/jax_shac/shac/policy_gradients/bgrad_{it}.pkl\"\n",
    "bgrad = pickle.load(open(bgrad_path, \"rb\"))\n",
    "\n",
    "# Calculate the norm over the env axis for all leaves.\n",
    "reduced_leaves = jax.tree_util.tree_map(lambda l: jp.linalg.norm(l, axis=(range(1, len(l.shape)))), bgrad)\n",
    "pg_size_per_env = jax.tree.reduce(operator.add, reduced_leaves)\n",
    "\n",
    "num_envs = 64\n",
    "x_axis = jp.linspace(0, num_envs-1, num_envs)\n",
    "plt.scatter(x_axis, pg_size_per_env)\n",
    "plt.xlabel(\"Environment Number\")\n",
    "plt.ylabel(\"Policy gradient size\")"
   ]
  },
  {
   "cell_type": "markdown",
   "metadata": {},
   "source": [
    "#### Are large policy gradients caused by large mjx jacobians?"
   ]
  },
  {
   "cell_type": "code",
   "execution_count": null,
   "metadata": {},
   "outputs": [],
   "source": [
    "# Repeat the offending unroll\n",
    "\n",
    "algo_state = trainer.load_checkpoint(it)\n",
    "ts = algo_state['training_state']\n",
    "state = algo_state['env_state']\n",
    "key = algo_state['unroll_keys']\n",
    "\n",
    "jacs, nstates, extras = trainer.jac_rollout(ts.policy_params, ts.normalizer_params,\n",
    "                           state, key)\n",
    "actions = extras[\"action\"]\n",
    "print(jacs.shape)"
   ]
  },
  {
   "cell_type": "code",
   "execution_count": null,
   "metadata": {},
   "outputs": [],
   "source": [
    "jac_norms = jp.linalg.norm(jacs, axis=(2, 3))\n",
    "assert len(jac_norms.shape) == 2\n",
    "max_norm_per_env = jp.max(jac_norms, axis=1)\n",
    "\n",
    "# Normalize both. \n",
    "assert len(pg_size_per_env) == 1\n",
    "assert len(max_norm_per_env) == 1\n",
    "\n",
    "n_pg_size_per_env = pg_size_per_env / jp.linalg.norm(pg_size_per_env)\n",
    "n_max_norm_per_env = max_norm_per_env / jp.linalg.norm(max_norm_per_env)\n",
    "\n",
    "plt.plot(n_pg_size_per_env, label=\"Policy gradient size\")\n",
    "plt.plot(n_max_norm_per_env, label=\"Size of max rollout mjx jacobian\")\n",
    "plt.legend()"
   ]
  }
 ],
 "metadata": {
  "kernelspec": {
   "display_name": "mujoco",
   "language": "python",
   "name": "python3"
  },
  "language_info": {
   "codemirror_mode": {
    "name": "ipython",
    "version": 3
   },
   "file_extension": ".py",
   "mimetype": "text/x-python",
   "name": "python",
   "nbconvert_exporter": "python",
   "pygments_lexer": "ipython3",
   "version": "3.12.0"
  }
 },
 "nbformat": 4,
 "nbformat_minor": 2
}

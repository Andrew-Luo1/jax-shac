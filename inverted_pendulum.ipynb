{
 "cells": [
  {
   "cell_type": "code",
   "execution_count": 1,
   "metadata": {},
   "outputs": [],
   "source": [
    "import sys\n",
    "from pathlib import Path\n",
    "import functools\n",
    "\n",
    "import mujoco\n",
    "from brax import envs\n",
    "import jax\n",
    "import jax.numpy as jp\n",
    "\n",
    "from envs import register_inverted_pendulum\n",
    "\n",
    "import shac.networks as shac_networks\n",
    "# import shac.train as  shac\n",
    "from shac.train_class import SHAC"
   ]
  },
  {
   "cell_type": "code",
   "execution_count": 2,
   "metadata": {},
   "outputs": [],
   "source": [
    "env_name = 'inverted_pendulum_diffble'\n",
    "\n",
    "log_sigma = None\n",
    "make_networks_factory = functools.partial(\n",
    "    shac_networks.make_shac_networks,\n",
    "        policy_hidden_layer_sizes=(64, 64),\n",
    "        value_hidden_layer_sizes =(64, 64),\n",
    "        scalar_var=False,\n",
    "        layer_norm=True)\n"
   ]
  },
  {
   "cell_type": "code",
   "execution_count": 3,
   "metadata": {},
   "outputs": [],
   "source": [
    "# Training Parameters\n",
    "unroll_length = 32 # Somewhat learns at 1. Doesn't at 8. Blows up at 16.\n",
    "\n",
    "num_epochs = int(500 * (32 / unroll_length))\n",
    "num_evals = num_epochs + 1\n",
    "num_envs = 128\n",
    "\n",
    "num_timesteps = (num_envs*unroll_length)*num_epochs\n",
    "\n",
    "num_critic_minibatches = 4\n",
    "num_critic_data = num_envs*unroll_length\n",
    "critic_batch_size = num_critic_data / num_critic_minibatches\n"
   ]
  },
  {
   "cell_type": "code",
   "execution_count": 4,
   "metadata": {},
   "outputs": [],
   "source": [
    "\n",
    "env = envs.get_environment(env_name)\n",
    "eval_env = envs.get_environment(env_name)"
   ]
  },
  {
   "cell_type": "code",
   "execution_count": 5,
   "metadata": {},
   "outputs": [
    {
     "name": "stdout",
     "output_type": "stream",
     "text": [
      "Env steps per training step: 4096\n",
      "Training steps per epoch: 1\n",
      "Critic minibatches per critic epoch: 4\n"
     ]
    }
   ],
   "source": [
    "kwargs = dict( \n",
    "  num_timesteps=num_timesteps, log_sigma=log_sigma,\n",
    "  num_evals=num_evals, use_tbx=True, tbx_logdir=f'{env_name}_log',\n",
    "  tbx_experiment_name=\"\", reward_scaling=1, \n",
    "  num_eval_envs = 64, num_envs=num_envs,\n",
    "  unroll_length=unroll_length, critic_batch_size=critic_batch_size,\n",
    "  critic_epochs = 16,target_critic_alpha = 0.2,\n",
    "  discounting = 0.99, lambda_ = 0.95,\n",
    "  normalize_observations=True,\n",
    "  episode_length=1000, \n",
    "  network_factory = make_networks_factory, \n",
    "  seed=0, entropy_cost = 1e-6,\n",
    "  resample_init=True,\n",
    "  scramble_initial_times=True,\n",
    "  num_grad_checks=None,\n",
    "  save_all_checkpoints=True,\n",
    "  save_all_policy_gradients=False\n",
    "  )\n",
    "\n",
    "trainer = SHAC(environment=env, eval_env=eval_env, **kwargs)"
   ]
  },
  {
   "cell_type": "code",
   "execution_count": 6,
   "metadata": {},
   "outputs": [],
   "source": [
    "make_inference_fn, policy_params, value_params, _= trainer.train()"
   ]
  }
 ],
 "metadata": {
  "kernelspec": {
   "display_name": "mujoco",
   "language": "python",
   "name": "python3"
  },
  "language_info": {
   "codemirror_mode": {
    "name": "ipython",
    "version": 3
   },
   "file_extension": ".py",
   "mimetype": "text/x-python",
   "name": "python",
   "nbconvert_exporter": "python",
   "pygments_lexer": "ipython3",
   "version": "3.10.13"
  }
 },
 "nbformat": 4,
 "nbformat_minor": 2
}
